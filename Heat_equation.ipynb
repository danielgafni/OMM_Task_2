{
 "cells": [
  {
   "cell_type": "markdown",
   "metadata": {},
   "source": [
    "Гафни Даниил, 306 группа, физический факультет МГУ"
   ]
  },
  {
   "cell_type": "markdown",
   "metadata": {},
   "source": [
    "### Импортируем необходимые библиотеки"
   ]
  },
  {
   "cell_type": "code",
   "execution_count": 2,
   "metadata": {
    "ExecuteTime": {
     "end_time": "2019-05-09T15:53:54.426936Z",
     "start_time": "2019-05-09T15:53:54.421977Z"
    }
   },
   "outputs": [],
   "source": [
    "import numpy as np\n",
    "\n",
    "import plotly\n",
    "import plotly.graph_objs as go\n",
    "\n",
    "import matplotlib\n",
    "import matplotlib.pyplot as plt\n",
    "from matplotlib import animation\n",
    "\n",
    "import warnings\n",
    "\n",
    "from IPython.display import clear_output, HTML, display"
   ]
  },
  {
   "cell_type": "markdown",
   "metadata": {},
   "source": [
    "### Проведем необходимые настройки"
   ]
  },
  {
   "cell_type": "code",
   "execution_count": 3,
   "metadata": {
    "ExecuteTime": {
     "end_time": "2019-05-09T15:54:07.887575Z",
     "start_time": "2019-05-09T15:54:07.852358Z"
    }
   },
   "outputs": [
    {
     "data": {
      "text/html": [
       "        <script type=\"text/javascript\">\n",
       "        window.PlotlyConfig = {MathJaxConfig: 'local'};\n",
       "        if (window.MathJax) {MathJax.Hub.Config({SVG: {font: \"STIX-Web\"}});}\n",
       "        if (typeof require !== 'undefined') {\n",
       "        require.undef(\"plotly\");\n",
       "        requirejs.config({\n",
       "            paths: {\n",
       "                'plotly': ['https://cdn.plot.ly/plotly-latest.min']\n",
       "            }\n",
       "        });\n",
       "        require(['plotly'], function(Plotly) {\n",
       "            window._Plotly = Plotly;\n",
       "        });\n",
       "        }\n",
       "        </script>\n",
       "        "
      ]
     },
     "metadata": {},
     "output_type": "display_data"
    }
   ],
   "source": [
    "plotly.offline.init_notebook_mode(connected=True)\n",
    "warnings.filterwarnings('ignore')\n",
    "%matplotlib inline\n",
    "%config InlineBackend.figure_format = 'retina'"
   ]
  },
  {
   "cell_type": "raw",
   "metadata": {
    "ExecuteTime": {
     "end_time": "2019-05-09T17:55:11.311166Z",
     "start_time": "2019-05-09T17:55:11.300750Z"
    }
   },
   "source": [
    "class HeatEquationSolver:\n",
    "    '''\n",
    "    Класс для численного решения уравнения теплопроводности.\n",
    "    '''\n",
    "    \n",
    "    def __init__(self):\n",
    "        pass\n",
    "    \n",
    "    def tridiagonal_matrix_algorithm(self, coeffs, F):\n",
    "        '''\n",
    "        Метод прогонки.\n",
    "        \n",
    "        Параметры: \n",
    "            coeffs (numpy.array): Тригианональная матрица коэффициентов уравнений.\n",
    "            F (numpy.array): Массив правых частей уравнений.\n",
    "        '''\n",
    "        N = coeffs.shape[0]-1\n",
    "        Y = np.zeros(N)\n",
    "        coeffs = coeffs[1:-1]\n",
    "        \n",
    "        kappa1, nu1 = coeffs[0][0], coeffs[0][1]\n",
    "        kappa2, nu2 = coeffs[-1][-2], coeffs[-1][-1]\n",
    "        alpha = np.zeros(N)\n",
    "        beta = np.zeros(N)\n",
    "        alpha[0] = kappa1\n",
    "        beta[0] = nu1\n",
    "        A = np.zeros(N-1)\n",
    "        B = np.zeros(N-1)\n",
    "        C = np.zeros(N-1)\n",
    "        for i, line in enumerate(coeffs):\n",
    "            A[i] = line[i]\n",
    "            B[i] = line[i+1]\n",
    "            C[i] = line[i+2]\n",
    "        \n",
    "        for n in range(1, len(alpha)):\n",
    "            alpha[n] = -B[n-1]/(C[n-1] + alpha[n-1]*A[n-1])\n",
    "            beta[n] = -(F[n-1] + A[n-1]*beta[n-1])/(C[n-1] + alpha[n-1]*A[n-1])\n",
    "            \n",
    "        Y[N-1] = (nu2 + kappa2*beta[N-1])/(1 - alpha[N-1]*kappa2)\n",
    "        for n in range(len(Y)-2, -1, -1):\n",
    "            Y[n] = alpha[n+1]*Y[n+1] + beta[n+1]\n",
    "        return Y\n",
    "    "
   ]
  },
  {
   "cell_type": "code",
   "execution_count": 156,
   "metadata": {
    "ExecuteTime": {
     "end_time": "2019-05-09T17:52:48.685873Z",
     "start_time": "2019-05-09T17:52:48.676449Z"
    }
   },
   "outputs": [],
   "source": [
    "# Метод прогонки\n",
    "def tridiagonal_matrix_algorithm(coeffs, F):\n",
    "    '''\n",
    "    Метод прогонки.\n",
    "    \n",
    "    Параметры: \n",
    "        coeffs (numpy.array): Тригианональная матрица коэффициентов уравнений.\n",
    "        F (numpy.array): Массив правых частей уравнений.\n",
    "    '''\n",
    "    N = coeffs.shape[0]-1\n",
    "    Y = np.zeros(N)\n",
    "    coeffs = coeffs[1:-1]\n",
    "    \n",
    "    kappa1, nu1 = coeffs[0][0], coeffs[0][1]\n",
    "    kappa2, nu2 = coeffs[-1][-2], coeffs[-1][-1]\n",
    "    alpha = np.zeros(N)\n",
    "    beta = np.zeros(N)\n",
    "    alpha[0] = kappa1\n",
    "    beta[0] = nu1\n",
    "    A = np.zeros(N-1)\n",
    "    B = np.zeros(N-1)\n",
    "    C = np.zeros(N-1)\n",
    "    for i, line in enumerate(coeffs):\n",
    "        A[i] = line[i]\n",
    "        B[i] = line[i+1]\n",
    "        C[i] = line[i+2]\n",
    "    \n",
    "    for n in range(1, len(alpha)):\n",
    "        alpha[n] = -B[n-1]/(C[n-1] + alpha[n-1]*A[n-1])\n",
    "        beta[n] = -(F[n-1] + A[n-1]*beta[n-1])/(C[n-1] + alpha[n-1]*A[n-1])\n",
    "        \n",
    "    Y[N-1] = (nu2 + kappa2*beta[N-1])/(1 - alpha[N-1]*kappa2)\n",
    "    for n in range(len(Y)-2, -1, -1):\n",
    "        Y[n] = alpha[n+1]*Y[n+1] + beta[n+1]\n",
    "    return Y"
   ]
  },
  {
   "cell_type": "code",
   "execution_count": 157,
   "metadata": {
    "ExecuteTime": {
     "end_time": "2019-05-09T17:52:51.596192Z",
     "start_time": "2019-05-09T17:52:51.589247Z"
    }
   },
   "outputs": [
    {
     "data": {
      "text/plain": [
       "array([-1.09852053, -0.16650967, -1.35147116, -1.10156813, -0.42195379])"
      ]
     },
     "execution_count": 157,
     "metadata": {},
     "output_type": "execute_result"
    }
   ],
   "source": [
    "coeffs = np.array([[1, 2, 0, 0, 0, 0], [4, 5, 6, 0, 0, 0], [0, 7, 8, 9, 0, 0],\n",
    "                   [0, 0, 10, 11, 12, 0], [0, 0, 0, 13, 14, 15], [0, 0, 0, 0, 16, 17]])\n",
    "F = [5, 20, 30, 40]\n",
    "\n",
    "tridiagonal_matrix_algorithm(coeffs, F)"
   ]
  },
  {
   "cell_type": "code",
   "execution_count": null,
   "metadata": {
    "ExecuteTime": {
     "end_time": "2019-05-09T17:53:05.019566Z",
     "start_time": "2019-05-09T17:53:05.015571Z"
    }
   },
   "outputs": [],
   "source": []
  },
  {
   "cell_type": "code",
   "execution_count": null,
   "metadata": {
    "ExecuteTime": {
     "end_time": "2019-05-09T17:30:09.963242Z",
     "start_time": "2019-05-09T17:30:09.958280Z"
    }
   },
   "outputs": [],
   "source": []
  },
  {
   "cell_type": "code",
   "execution_count": null,
   "metadata": {
    "ExecuteTime": {
     "end_time": "2019-05-09T17:26:37.637506Z",
     "start_time": "2019-05-09T17:26:37.633068Z"
    }
   },
   "outputs": [],
   "source": []
  },
  {
   "cell_type": "code",
   "execution_count": null,
   "metadata": {},
   "outputs": [],
   "source": []
  }
 ],
 "metadata": {
  "hide_input": false,
  "kernelspec": {
   "display_name": "Python 3",
   "language": "python",
   "name": "python3"
  },
  "language_info": {
   "codemirror_mode": {
    "name": "ipython",
    "version": 3
   },
   "file_extension": ".py",
   "mimetype": "text/x-python",
   "name": "python",
   "nbconvert_exporter": "python",
   "pygments_lexer": "ipython3",
   "version": "3.6.8"
  },
  "toc": {
   "base_numbering": 1,
   "nav_menu": {},
   "number_sections": true,
   "sideBar": true,
   "skip_h1_title": false,
   "title_cell": "Table of Contents",
   "title_sidebar": "Contents",
   "toc_cell": false,
   "toc_position": {},
   "toc_section_display": true,
   "toc_window_display": false
  }
 },
 "nbformat": 4,
 "nbformat_minor": 2
}
