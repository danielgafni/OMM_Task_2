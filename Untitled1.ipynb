{
 "cells": [
  {
   "cell_type": "code",
   "execution_count": 19,
   "metadata": {
    "ExecuteTime": {
     "end_time": "2019-05-11T14:03:32.200070Z",
     "start_time": "2019-05-11T14:03:32.195606Z"
    }
   },
   "outputs": [],
   "source": [
    "class Master:\n",
    "    att = 'Master attribute'\n",
    "    def method(self):\n",
    "        print('Master method')\n",
    "        \n",
    "class Slave(Master):\n",
    "    def method2(self):\n",
    "        print('Slave method')"
   ]
  },
  {
   "cell_type": "code",
   "execution_count": 25,
   "metadata": {
    "ExecuteTime": {
     "end_time": "2019-05-11T14:03:56.048483Z",
     "start_time": "2019-05-11T14:03:56.044983Z"
    }
   },
   "outputs": [],
   "source": [
    "a = Master()\n",
    "b = Slave()"
   ]
  },
  {
   "cell_type": "code",
   "execution_count": 29,
   "metadata": {
    "ExecuteTime": {
     "end_time": "2019-05-11T14:04:09.899772Z",
     "start_time": "2019-05-11T14:04:09.895318Z"
    }
   },
   "outputs": [
    {
     "name": "stdout",
     "output_type": "stream",
     "text": [
      "Slave method\n"
     ]
    }
   ],
   "source": [
    "b.method2()"
   ]
  },
  {
   "cell_type": "code",
   "execution_count": null,
   "metadata": {},
   "outputs": [],
   "source": []
  }
 ],
 "metadata": {
  "hide_input": false,
  "kernelspec": {
   "display_name": "Python 3",
   "language": "python",
   "name": "python3"
  },
  "language_info": {
   "codemirror_mode": {
    "name": "ipython",
    "version": 3
   },
   "file_extension": ".py",
   "mimetype": "text/x-python",
   "name": "python",
   "nbconvert_exporter": "python",
   "pygments_lexer": "ipython3",
   "version": "3.6.8"
  },
  "toc": {
   "base_numbering": 1,
   "nav_menu": {},
   "number_sections": true,
   "sideBar": true,
   "skip_h1_title": false,
   "title_cell": "Table of Contents",
   "title_sidebar": "Contents",
   "toc_cell": false,
   "toc_position": {},
   "toc_section_display": true,
   "toc_window_display": false
  }
 },
 "nbformat": 4,
 "nbformat_minor": 2
}
